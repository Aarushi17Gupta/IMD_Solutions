{
 "cells": [
  {
   "cell_type": "markdown",
   "id": "c97ed6b2",
   "metadata": {},
   "source": [
    "## Pre-interview test for internship\n",
    "##### Submitted By: Aarushi Gupta"
   ]
  },
  {
   "cell_type": "markdown",
   "id": "1f126674",
   "metadata": {},
   "source": [
    "##### 1) Consider the following time-series recorded at continuous time-stamps/ units\n",
    "#####    X: 1,3,9,21,10,11,-7,8,9,11,13,15,16,31,33\n",
    "######     Find the maximum repetition interval in time units i.e. primary wavelength."
   ]
  },
  {
   "cell_type": "code",
   "execution_count": 1,
   "id": "e5c003c0",
   "metadata": {},
   "outputs": [],
   "source": [
    "#storing the given values in the list\n",
    "lst = [1,3,9,21,10,11,-7,8,9,11,13,15,16,31,33]"
   ]
  },
  {
   "cell_type": "markdown",
   "id": "cbc1d057",
   "metadata": {},
   "source": [
    "We can assume that there is some periodicity in the signal-it might repeat daily, weekly or monthly.\n",
    "Translating a time series into the Fourier domain might help to find periodicity. \n",
    "Following the below steps might help with this:\n",
    "- Taking the time series into frequency domain\n",
    "- We ignore frequency 0 and observe that the value is largest for index 3- this indicates that within our time series x, the signal repeats 3 times. Hence, the length of the signal- the period-- would be 15/3=5."
   ]
  },
  {
   "cell_type": "code",
   "execution_count": 2,
   "id": "fba4b97c",
   "metadata": {},
   "outputs": [
    {
     "data": {
      "image/png": "[encoded data removed]",
      "text/plain": [
       "<Figure size 576x360 with 1 Axes>"
      ]
     },
     "metadata": {},
     "output_type": "display_data"
    }
   ],
   "source": [
    "#importing the fourier transform module from scipy\n",
    "from scipy import fftpack\n",
    "import matplotlib.pyplot as plt\n",
    "import seaborn as sns\n",
    "sns.set()\n",
    "import numpy as np\n",
    "f_s = 100\n",
    "x = fftpack.fft(lst)\n",
    "freqs = fftpack.fftfreq(len(x)) * f_s\n",
    "\n",
    "plt.figure(figsize=[8,5])\n",
    "plt.stem(freqs, np.abs(x), linefmt='--')\n",
    "plt.xlabel('Frequency in Hertz [Hz]',fontsize=15)\n",
    "plt.ylabel('Frequency Domain (Spectrum) Magnitude',fontsize=15)\n",
    "plt.show()"
   ]
  },
  {
   "cell_type": "markdown",
   "id": "863306bd",
   "metadata": {},
   "source": [
    "##### 2)  Write a function/ method to print a mirror image of a binary tree in a recursive manner considering the input parameter to be root node."
   ]
  },
  {
   "cell_type": "markdown",
   "id": "1f0b983f",
   "metadata": {},
   "source": [
    "- Mirror of a Tree: Mirror of a Binary Tree T is another Binary Tree M(T) with left and right children of all non-leaf nodes interchanged. \n",
    "- Given a binary tree, the task is to create a new binary tree which is a mirror image of the given binary tree.\n",
    "- Approach: Write a recursive function that will take two nodes as the argument, one of the original tree and the other of the newly created tree. Now, for every passed node of the original tree, create a corresponding node in the mirror tree and then recursively call the same method for the child nodes but passing the left child of the original tree node with the right child of the mirror tree node and the right child of the original tree node with the left child of the mirror tree node."
   ]
  },
  {
   "cell_type": "code",
   "execution_count": 3,
   "id": "5c775238",
   "metadata": {},
   "outputs": [],
   "source": [
    "# creating a class named as 'Node'\n",
    "class Node:\n",
    "  def __init__(self,data):\n",
    "    self.left = None\n",
    "    self.data = data\n",
    "    self.right = None"
   ]
  },
  {
   "cell_type": "code",
   "execution_count": 4,
   "id": "a793d475",
   "metadata": {},
   "outputs": [
    {
     "name": "stdout",
     "output_type": "stream",
     "text": [
      "6\n",
      "7\n",
      "11\n",
      "12\n",
      "28\n",
      "36\n",
      "\n",
      "36\n",
      "28\n",
      "12\n",
      "11\n",
      "7\n",
      "6\n"
     ]
    }
   ],
   "source": [
    "class BST:\n",
    "  def buildBST(self, root, ele):\n",
    "    if root == None:\n",
    "      return Node(ele)\n",
    "\n",
    "    if ele < root.data:\n",
    "      root.left = self.buildBST(root.left, ele)\n",
    "    else:\n",
    "      root.right = self.buildBST(root.right, ele)\n",
    "\n",
    "    return root\n",
    "\n",
    "  def mirror(self, root):\n",
    "    if root == None:\n",
    "      return\n",
    "\n",
    "    temp = root\n",
    "    self.mirror(root.left)\n",
    "    self.mirror(root.right)\n",
    "\n",
    "    temp = root.left\n",
    "    root.left = root.right\n",
    "    root.right = temp\n",
    "\n",
    "  \n",
    "  def inorder(self, root):\n",
    "    if root == None:\n",
    "      return\n",
    "\n",
    "    self.inorder(root.left)\n",
    "    print(root.data)\n",
    "    self.inorder(root.right)\n",
    "\n",
    "root = None\n",
    "b = BST()\n",
    "for ele in [11, 7, 28, 6, 12, 36]:\n",
    "    root = b.buildBST(root, ele)\n",
    "\n",
    "b.inorder(root)\n",
    "b.mirror(root)\n",
    "print()\n",
    "b.inorder(root)"
   ]
  },
  {
   "cell_type": "markdown",
   "id": "012db2a6",
   "metadata": {},
   "source": [
    "- Time Complexity : O(n)\n",
    "- Space Complexity: O(1)"
   ]
  },
  {
   "cell_type": "markdown",
   "id": "9b6c6fdd",
   "metadata": {},
   "source": [
    "##### 3) Consider the following series of 2 parameters x and y\n",
    "\n",
    "#####      X: 0,1,3,5,6,4,2,1,-1,-5,9,7,11,12,13\n",
    "#####      Y: 1,3,9,21,10,11,-7,8,9,11,13,15,16,31,33\n",
    "\n",
    "######     Find the linear regression equation for y and x considering x as an independent parameter. Calculate error and bias parts in the regression relation."
   ]
  },
  {
   "cell_type": "code",
   "execution_count": 5,
   "id": "8a89b5cb",
   "metadata": {},
   "outputs": [
    {
     "name": "stdout",
     "output_type": "stream",
     "text": [
      "[1.4284695]\n",
      "5.790938280413843\n"
     ]
    }
   ],
   "source": [
    "#importing the relevent modules\n",
    "import numpy as np\n",
    "from sklearn.linear_model import LinearRegression\n",
    "from sklearn.metrics import mean_squared_error, mean_absolute_error\n",
    "#storing the given data points into arrays\n",
    "x = np.array([0,1,3,5,6,4,2,1,-1,-5,9,7,11,12,13])\n",
    "y = np.array([1,3,9,21,10,11,-7,8,9,11,13,15,16,31,33])\n",
    "\n",
    "x = x.reshape(-1,1)\n",
    "#Creating the instance(object) for the linear regression class\n",
    "lr = LinearRegression()\n",
    "lr.fit(x,y)\n",
    "#prnting the intercept and coefficient of the data points\n",
    "print(lr.coef_)\n",
    "print(lr.intercept_)"
   ]
  },
  {
   "cell_type": "markdown",
   "id": "11f2c064",
   "metadata": {},
   "source": [
    "**Equation of line is given by:** $$ y\\ =\\ 1.43x\\ +\\ 5.79$$"
   ]
  },
  {
   "cell_type": "code",
   "execution_count": 6,
   "id": "49d7616d",
   "metadata": {},
   "outputs": [
    {
     "data": {
      "image/png": "[encoded data removed]",
      "text/plain": [
       "<Figure size 576x360 with 1 Axes>"
      ]
     },
     "metadata": {},
     "output_type": "display_data"
    }
   ],
   "source": [
    "plt.figure(figsize=[8,5])\n",
    "# plotting the scatter plot to explore the relation between the two variables x and y\n",
    "plt.scatter(x,y,color='red')\n",
    "# plotting the linear regression line on the same scatter plot\n",
    "plt.plot(x, lr.predict(x), color='Green')\n",
    "plt.xlabel('x',fontsize=15)\n",
    "plt.ylabel('y',fontsize=15)\n",
    "plt.show()"
   ]
  },
  {
   "cell_type": "code",
   "execution_count": 7,
   "id": "4875ef3f",
   "metadata": {},
   "outputs": [
    {
     "data": {
      "text/plain": [
       "7.063148894330655"
      ]
     },
     "execution_count": 7,
     "metadata": {},
     "output_type": "execute_result"
    }
   ],
   "source": [
    "# printing the root mean squared error\n",
    "def RMSE(y_true, y_predict):\n",
    "    return np.sqrt(mean_squared_error(y_true, y_predict))\n",
    "RMSE(y, lr.predict(x))"
   ]
  },
  {
   "cell_type": "markdown",
   "id": "b443ec88",
   "metadata": {},
   "source": [
    "- Bias in Linear Regression i.e a is used to move the prediction line up or down (offset). Without a the line always goes through (0, 0) which may not always lead to a good fit. When there are no independent variables, y=a which is sample mean.\n",
    "- bias for the limited dataset (small size) is difference between the predicted value and the actual value."
   ]
  },
  {
   "cell_type": "code",
   "execution_count": 8,
   "id": "be5f840b",
   "metadata": {},
   "outputs": [
    {
     "data": {
      "text/plain": [
       "5.672351052443811"
      ]
     },
     "execution_count": 8,
     "metadata": {},
     "output_type": "execute_result"
    }
   ],
   "source": [
    "mean_absolute_error(y, lr.predict(x))"
   ]
  },
  {
   "cell_type": "markdown",
   "id": "ef67b961",
   "metadata": {},
   "source": [
    "##### 4)  Generate a random linked list of n nodes, whose property is defined in such a way that the value of every node is a perfect square less than k^3 for any number k<=n.\n",
    "\n",
    "######     Mention time and space complexity of both programs explicitly.\n"
   ]
  },
  {
   "cell_type": "code",
   "execution_count": 9,
   "id": "5507843c",
   "metadata": {},
   "outputs": [],
   "source": [
    "# creating the class known as 'Node'\n",
    "class Node:\n",
    "  def __init__(self, data, next = None):\n",
    "    self.data = data\n",
    "    self.next = next"
   ]
  },
  {
   "cell_type": "markdown",
   "id": "c47a38f8",
   "metadata": {},
   "source": [
    "A linked list is a linear data structure, in which the elements are not stored at contiguous memory locations. The elements in a linked list are linked using pointers as shown in the below image:\n",
    "- Link − Each link of a linked list can store a data called an element.\n",
    "- Next − Each link of a linked list contains a link to the next link called Next.\n",
    "- LinkedList − A Linked List contains the connection link to the first link called First."
   ]
  },
  {
   "cell_type": "code",
   "execution_count": 10,
   "id": "020f8475",
   "metadata": {},
   "outputs": [],
   "source": [
    "import random\n",
    "class LinkedList:\n",
    "  def __init__(self):\n",
    "    self.head = None\n",
    "\n",
    "\n",
    "  def insert_at_end(self, n, k):\n",
    "    if k <= n and n>=1:\n",
    "      i = 0\n",
    "      x = random.randint(0, n)\n",
    "      if x**2 < k**3:\n",
    "        self.head = Node(x**2)\n",
    "        num = 1 #1 node has been created\n",
    "        while num < n:\n",
    "          x = random.randint(0,n)\n",
    "          if x**2 < k**3: \n",
    "            current = self.head\n",
    "            while current.next != None:\n",
    "              current = current.next\n",
    "            current.next = Node(x**2)\n",
    "            num += 1\n",
    "          else:\n",
    "            x = random.randint(0,n)\n",
    "      else:\n",
    "        x = random.randint(0,n)\n",
    "\n",
    "    else:\n",
    "      print(\"Enter correct values\")\n",
    "\n",
    "  def display(self):\n",
    "      current = self.head\n",
    "      while current != None:\n",
    "          print(current.data, end = \" \")\n",
    "          current = current.next"
   ]
  },
  {
   "cell_type": "code",
   "execution_count": 11,
   "id": "76f19e7e",
   "metadata": {},
   "outputs": [
    {
     "name": "stdout",
     "output_type": "stream",
     "text": [
      "81 36 9 16 81 100 0 1 36 49 "
     ]
    }
   ],
   "source": [
    "LL = LinkedList()\n",
    "\n",
    "LL.insert_at_end(10,5)\n",
    "LL.display()"
   ]
  },
  {
   "cell_type": "markdown",
   "id": "9de77621",
   "metadata": {},
   "source": [
    "- Time Complexity :- O(n^2)\n",
    "- Space Complexity :- O(1)"
   ]
  }
 ],
 "metadata": {
  "kernelspec": {
   "display_name": "Python 3 (ipykernel)",
   "language": "python",
   "name": "python3"
  },
  "language_info": {
   "codemirror_mode": {
    "name": "ipython",
    "version": 3
   },
   "file_extension": ".py",
   "mimetype": "text/x-python",
   "name": "python",
   "nbconvert_exporter": "python",
   "pygments_lexer": "ipython3",
   "version": "3.9.7"
  }
 },
 "nbformat": 4,
 "nbformat_minor": 5
}
